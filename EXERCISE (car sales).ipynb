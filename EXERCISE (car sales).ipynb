{
 "cells": [
  {
   "cell_type": "code",
   "execution_count": 1,
   "id": "693844f4",
   "metadata": {},
   "outputs": [],
   "source": [
    "import pandas as pd\n",
    "import numpy as np"
   ]
  },
  {
   "cell_type": "code",
   "execution_count": 2,
   "id": "58974a76",
   "metadata": {},
   "outputs": [],
   "source": [
    "car = pd.read_csv('Car_sales.csv')"
   ]
  },
  {
   "cell_type": "code",
   "execution_count": 3,
   "id": "078f6eae",
   "metadata": {},
   "outputs": [
    {
     "data": {
      "text/html": [
       "<div>\n",
       "<style scoped>\n",
       "    .dataframe tbody tr th:only-of-type {\n",
       "        vertical-align: middle;\n",
       "    }\n",
       "\n",
       "    .dataframe tbody tr th {\n",
       "        vertical-align: top;\n",
       "    }\n",
       "\n",
       "    .dataframe thead th {\n",
       "        text-align: right;\n",
       "    }\n",
       "</style>\n",
       "<table border=\"1\" class=\"dataframe\">\n",
       "  <thead>\n",
       "    <tr style=\"text-align: right;\">\n",
       "      <th></th>\n",
       "      <th>Manufacturer</th>\n",
       "      <th>Model</th>\n",
       "      <th>Sales in thousands</th>\n",
       "      <th>x_4_year</th>\n",
       "      <th>Vehicle type</th>\n",
       "      <th>Price in thousands</th>\n",
       "      <th>Engine size</th>\n",
       "      <th>Horsepower</th>\n",
       "      <th>Wheelbase</th>\n",
       "      <th>Width</th>\n",
       "      <th>Length</th>\n",
       "      <th>Curb weight</th>\n",
       "      <th>Fuel capacity</th>\n",
       "      <th>Fuel efficiency</th>\n",
       "      <th>Latest Launch</th>\n",
       "      <th>Unnamed: 15</th>\n",
       "      <th>XX</th>\n",
       "    </tr>\n",
       "  </thead>\n",
       "  <tbody>\n",
       "    <tr>\n",
       "      <th>0</th>\n",
       "      <td>Acura</td>\n",
       "      <td>Integra</td>\n",
       "      <td>16.919</td>\n",
       "      <td>16.360</td>\n",
       "      <td>Passenger</td>\n",
       "      <td>21.50</td>\n",
       "      <td>1.8</td>\n",
       "      <td>140.0</td>\n",
       "      <td>101.2</td>\n",
       "      <td>67.3</td>\n",
       "      <td>172.4</td>\n",
       "      <td>2.639</td>\n",
       "      <td>13.2</td>\n",
       "      <td>28.0</td>\n",
       "      <td>2-Feb-14</td>\n",
       "      <td>NaN</td>\n",
       "      <td>16.360</td>\n",
       "    </tr>\n",
       "    <tr>\n",
       "      <th>1</th>\n",
       "      <td>Acura</td>\n",
       "      <td>TL</td>\n",
       "      <td>39.384</td>\n",
       "      <td>19.875</td>\n",
       "      <td>Passenger</td>\n",
       "      <td>28.40</td>\n",
       "      <td>3.2</td>\n",
       "      <td>225.0</td>\n",
       "      <td>108.1</td>\n",
       "      <td>70.3</td>\n",
       "      <td>192.9</td>\n",
       "      <td>3.517</td>\n",
       "      <td>17.2</td>\n",
       "      <td>25.0</td>\n",
       "      <td>6-Mar-15</td>\n",
       "      <td>NaN</td>\n",
       "      <td>19.875</td>\n",
       "    </tr>\n",
       "    <tr>\n",
       "      <th>2</th>\n",
       "      <td>Acura</td>\n",
       "      <td>CL</td>\n",
       "      <td>14.114</td>\n",
       "      <td>18.225</td>\n",
       "      <td>Passenger</td>\n",
       "      <td>NaN</td>\n",
       "      <td>3.2</td>\n",
       "      <td>225.0</td>\n",
       "      <td>106.9</td>\n",
       "      <td>70.6</td>\n",
       "      <td>192.0</td>\n",
       "      <td>3.470</td>\n",
       "      <td>17.2</td>\n",
       "      <td>26.0</td>\n",
       "      <td>1-Apr-14</td>\n",
       "      <td>NaN</td>\n",
       "      <td>18.225</td>\n",
       "    </tr>\n",
       "    <tr>\n",
       "      <th>3</th>\n",
       "      <td>Acura</td>\n",
       "      <td>RL</td>\n",
       "      <td>8.588</td>\n",
       "      <td>29.725</td>\n",
       "      <td>Passenger</td>\n",
       "      <td>42.00</td>\n",
       "      <td>3.5</td>\n",
       "      <td>210.0</td>\n",
       "      <td>114.6</td>\n",
       "      <td>71.4</td>\n",
       "      <td>196.6</td>\n",
       "      <td>3.850</td>\n",
       "      <td>18.0</td>\n",
       "      <td>22.0</td>\n",
       "      <td>3-Oct-15</td>\n",
       "      <td>NaN</td>\n",
       "      <td>29.725</td>\n",
       "    </tr>\n",
       "    <tr>\n",
       "      <th>4</th>\n",
       "      <td>Audi</td>\n",
       "      <td>A4</td>\n",
       "      <td>20.397</td>\n",
       "      <td>22.255</td>\n",
       "      <td>Passenger</td>\n",
       "      <td>23.99</td>\n",
       "      <td>1.8</td>\n",
       "      <td>150.0</td>\n",
       "      <td>102.6</td>\n",
       "      <td>68.2</td>\n",
       "      <td>178.0</td>\n",
       "      <td>2.998</td>\n",
       "      <td>16.4</td>\n",
       "      <td>27.0</td>\n",
       "      <td>10-Aug-15</td>\n",
       "      <td>NaN</td>\n",
       "      <td>22.255</td>\n",
       "    </tr>\n",
       "  </tbody>\n",
       "</table>\n",
       "</div>"
      ],
      "text/plain": [
       "    Manufacturer              Model  Sales in thousands  x_4_year  \\\n",
       "0  Acura          Integra                        16.919    16.360   \n",
       "1  Acura          TL                             39.384    19.875   \n",
       "2  Acura          CL                             14.114    18.225   \n",
       "3  Acura          RL                              8.588    29.725   \n",
       "4  Audi           A4                             20.397    22.255   \n",
       "\n",
       "  Vehicle type  Price in thousands  Engine size  Horsepower  Wheelbase  Width  \\\n",
       "0    Passenger               21.50          1.8       140.0      101.2   67.3   \n",
       "1    Passenger               28.40          3.2       225.0      108.1   70.3   \n",
       "2    Passenger                 NaN          3.2       225.0      106.9   70.6   \n",
       "3    Passenger               42.00          3.5       210.0      114.6   71.4   \n",
       "4    Passenger               23.99          1.8       150.0      102.6   68.2   \n",
       "\n",
       "   Length  Curb weight  Fuel capacity  Fuel efficiency Latest Launch  \\\n",
       "0   172.4        2.639           13.2             28.0      2-Feb-14   \n",
       "1   192.9        3.517           17.2             25.0      6-Mar-15   \n",
       "2   192.0        3.470           17.2             26.0      1-Apr-14   \n",
       "3   196.6        3.850           18.0             22.0      3-Oct-15   \n",
       "4   178.0        2.998           16.4             27.0     10-Aug-15   \n",
       "\n",
       "   Unnamed: 15      XX  \n",
       "0          NaN  16.360  \n",
       "1          NaN  19.875  \n",
       "2          NaN  18.225  \n",
       "3          NaN  29.725  \n",
       "4          NaN  22.255  "
      ]
     },
     "execution_count": 3,
     "metadata": {},
     "output_type": "execute_result"
    }
   ],
   "source": [
    "car.head()"
   ]
  },
  {
   "cell_type": "code",
   "execution_count": 4,
   "id": "8bcebc3d",
   "metadata": {},
   "outputs": [
    {
     "data": {
      "text/plain": [
       "Index(['Manufacturer', 'Model', 'Sales in thousands', 'x_4_year',\n",
       "       'Vehicle type', 'Price in thousands', 'Engine size', 'Horsepower',\n",
       "       'Wheelbase', 'Width', 'Length', 'Curb weight', 'Fuel capacity',\n",
       "       'Fuel efficiency', 'Latest Launch', 'Unnamed: 15', 'XX'],\n",
       "      dtype='object')"
      ]
     },
     "execution_count": 4,
     "metadata": {},
     "output_type": "execute_result"
    }
   ],
   "source": [
    "car.columns"
   ]
  },
  {
   "cell_type": "code",
   "execution_count": 5,
   "id": "77541f8c",
   "metadata": {},
   "outputs": [],
   "source": [
    "car.drop(['Unnamed: 15', 'XX'],axis=1,inplace=True)"
   ]
  },
  {
   "cell_type": "code",
   "execution_count": 6,
   "id": "f8810af9",
   "metadata": {},
   "outputs": [
    {
     "data": {
      "text/html": [
       "<div>\n",
       "<style scoped>\n",
       "    .dataframe tbody tr th:only-of-type {\n",
       "        vertical-align: middle;\n",
       "    }\n",
       "\n",
       "    .dataframe tbody tr th {\n",
       "        vertical-align: top;\n",
       "    }\n",
       "\n",
       "    .dataframe thead th {\n",
       "        text-align: right;\n",
       "    }\n",
       "</style>\n",
       "<table border=\"1\" class=\"dataframe\">\n",
       "  <thead>\n",
       "    <tr style=\"text-align: right;\">\n",
       "      <th></th>\n",
       "      <th>Sales in thousands</th>\n",
       "      <th>x_4_year</th>\n",
       "      <th>Price in thousands</th>\n",
       "      <th>Engine size</th>\n",
       "      <th>Horsepower</th>\n",
       "      <th>Wheelbase</th>\n",
       "      <th>Width</th>\n",
       "      <th>Length</th>\n",
       "      <th>Curb weight</th>\n",
       "      <th>Fuel capacity</th>\n",
       "      <th>Fuel efficiency</th>\n",
       "    </tr>\n",
       "  </thead>\n",
       "  <tbody>\n",
       "    <tr>\n",
       "      <th>count</th>\n",
       "      <td>157.000000</td>\n",
       "      <td>121.000000</td>\n",
       "      <td>155.000000</td>\n",
       "      <td>156.000000</td>\n",
       "      <td>156.000000</td>\n",
       "      <td>156.000000</td>\n",
       "      <td>156.000000</td>\n",
       "      <td>156.000000</td>\n",
       "      <td>155.000000</td>\n",
       "      <td>156.000000</td>\n",
       "      <td>154.000000</td>\n",
       "    </tr>\n",
       "    <tr>\n",
       "      <th>mean</th>\n",
       "      <td>52.998076</td>\n",
       "      <td>18.072975</td>\n",
       "      <td>27.390755</td>\n",
       "      <td>3.060897</td>\n",
       "      <td>185.948718</td>\n",
       "      <td>107.487179</td>\n",
       "      <td>71.150000</td>\n",
       "      <td>187.343590</td>\n",
       "      <td>3.378026</td>\n",
       "      <td>17.951923</td>\n",
       "      <td>23.844156</td>\n",
       "    </tr>\n",
       "    <tr>\n",
       "      <th>std</th>\n",
       "      <td>68.029422</td>\n",
       "      <td>11.453384</td>\n",
       "      <td>14.351653</td>\n",
       "      <td>1.044653</td>\n",
       "      <td>56.700321</td>\n",
       "      <td>7.641303</td>\n",
       "      <td>3.451872</td>\n",
       "      <td>13.431754</td>\n",
       "      <td>0.630502</td>\n",
       "      <td>3.887921</td>\n",
       "      <td>4.282706</td>\n",
       "    </tr>\n",
       "    <tr>\n",
       "      <th>min</th>\n",
       "      <td>0.110000</td>\n",
       "      <td>5.160000</td>\n",
       "      <td>9.235000</td>\n",
       "      <td>1.000000</td>\n",
       "      <td>55.000000</td>\n",
       "      <td>92.600000</td>\n",
       "      <td>62.600000</td>\n",
       "      <td>149.400000</td>\n",
       "      <td>1.895000</td>\n",
       "      <td>10.300000</td>\n",
       "      <td>15.000000</td>\n",
       "    </tr>\n",
       "    <tr>\n",
       "      <th>25%</th>\n",
       "      <td>14.114000</td>\n",
       "      <td>11.260000</td>\n",
       "      <td>18.017500</td>\n",
       "      <td>2.300000</td>\n",
       "      <td>149.500000</td>\n",
       "      <td>103.000000</td>\n",
       "      <td>68.400000</td>\n",
       "      <td>177.575000</td>\n",
       "      <td>2.971000</td>\n",
       "      <td>15.800000</td>\n",
       "      <td>21.000000</td>\n",
       "    </tr>\n",
       "    <tr>\n",
       "      <th>50%</th>\n",
       "      <td>29.450000</td>\n",
       "      <td>14.180000</td>\n",
       "      <td>22.799000</td>\n",
       "      <td>3.000000</td>\n",
       "      <td>177.500000</td>\n",
       "      <td>107.000000</td>\n",
       "      <td>70.550000</td>\n",
       "      <td>187.900000</td>\n",
       "      <td>3.342000</td>\n",
       "      <td>17.200000</td>\n",
       "      <td>24.000000</td>\n",
       "    </tr>\n",
       "    <tr>\n",
       "      <th>75%</th>\n",
       "      <td>67.956000</td>\n",
       "      <td>19.875000</td>\n",
       "      <td>31.947500</td>\n",
       "      <td>3.575000</td>\n",
       "      <td>215.000000</td>\n",
       "      <td>112.200000</td>\n",
       "      <td>73.425000</td>\n",
       "      <td>196.125000</td>\n",
       "      <td>3.799500</td>\n",
       "      <td>19.575000</td>\n",
       "      <td>26.000000</td>\n",
       "    </tr>\n",
       "    <tr>\n",
       "      <th>max</th>\n",
       "      <td>540.561000</td>\n",
       "      <td>67.550000</td>\n",
       "      <td>85.500000</td>\n",
       "      <td>8.000000</td>\n",
       "      <td>450.000000</td>\n",
       "      <td>138.700000</td>\n",
       "      <td>79.900000</td>\n",
       "      <td>224.500000</td>\n",
       "      <td>5.572000</td>\n",
       "      <td>32.000000</td>\n",
       "      <td>45.000000</td>\n",
       "    </tr>\n",
       "  </tbody>\n",
       "</table>\n",
       "</div>"
      ],
      "text/plain": [
       "       Sales in thousands    x_4_year  Price in thousands  Engine size  \\\n",
       "count          157.000000  121.000000          155.000000   156.000000   \n",
       "mean            52.998076   18.072975           27.390755     3.060897   \n",
       "std             68.029422   11.453384           14.351653     1.044653   \n",
       "min              0.110000    5.160000            9.235000     1.000000   \n",
       "25%             14.114000   11.260000           18.017500     2.300000   \n",
       "50%             29.450000   14.180000           22.799000     3.000000   \n",
       "75%             67.956000   19.875000           31.947500     3.575000   \n",
       "max            540.561000   67.550000           85.500000     8.000000   \n",
       "\n",
       "       Horsepower   Wheelbase       Width      Length  Curb weight  \\\n",
       "count  156.000000  156.000000  156.000000  156.000000   155.000000   \n",
       "mean   185.948718  107.487179   71.150000  187.343590     3.378026   \n",
       "std     56.700321    7.641303    3.451872   13.431754     0.630502   \n",
       "min     55.000000   92.600000   62.600000  149.400000     1.895000   \n",
       "25%    149.500000  103.000000   68.400000  177.575000     2.971000   \n",
       "50%    177.500000  107.000000   70.550000  187.900000     3.342000   \n",
       "75%    215.000000  112.200000   73.425000  196.125000     3.799500   \n",
       "max    450.000000  138.700000   79.900000  224.500000     5.572000   \n",
       "\n",
       "       Fuel capacity  Fuel efficiency  \n",
       "count     156.000000       154.000000  \n",
       "mean       17.951923        23.844156  \n",
       "std         3.887921         4.282706  \n",
       "min        10.300000        15.000000  \n",
       "25%        15.800000        21.000000  \n",
       "50%        17.200000        24.000000  \n",
       "75%        19.575000        26.000000  \n",
       "max        32.000000        45.000000  "
      ]
     },
     "execution_count": 6,
     "metadata": {},
     "output_type": "execute_result"
    }
   ],
   "source": [
    "car.describe()"
   ]
  },
  {
   "cell_type": "code",
   "execution_count": 7,
   "id": "4bbc731d",
   "metadata": {},
   "outputs": [
    {
     "name": "stdout",
     "output_type": "stream",
     "text": [
      "<class 'pandas.core.frame.DataFrame'>\n",
      "RangeIndex: 157 entries, 0 to 156\n",
      "Data columns (total 15 columns):\n",
      " #   Column              Non-Null Count  Dtype  \n",
      "---  ------              --------------  -----  \n",
      " 0   Manufacturer        154 non-null    object \n",
      " 1   Model               157 non-null    object \n",
      " 2   Sales in thousands  157 non-null    float64\n",
      " 3   x_4_year            121 non-null    float64\n",
      " 4   Vehicle type        157 non-null    object \n",
      " 5   Price in thousands  155 non-null    float64\n",
      " 6   Engine size         156 non-null    float64\n",
      " 7   Horsepower          156 non-null    float64\n",
      " 8   Wheelbase           156 non-null    float64\n",
      " 9   Width               156 non-null    float64\n",
      " 10  Length              156 non-null    float64\n",
      " 11  Curb weight         155 non-null    float64\n",
      " 12  Fuel capacity       156 non-null    float64\n",
      " 13  Fuel efficiency     154 non-null    float64\n",
      " 14  Latest Launch       157 non-null    object \n",
      "dtypes: float64(11), object(4)\n",
      "memory usage: 18.5+ KB\n"
     ]
    }
   ],
   "source": [
    "car.info()"
   ]
  },
  {
   "cell_type": "code",
   "execution_count": 8,
   "id": "8e4c4484",
   "metadata": {},
   "outputs": [
    {
     "data": {
      "text/plain": [
       "(157, 15)"
      ]
     },
     "execution_count": 8,
     "metadata": {},
     "output_type": "execute_result"
    }
   ],
   "source": [
    "car.shape"
   ]
  },
  {
   "cell_type": "code",
   "execution_count": 9,
   "id": "64373295",
   "metadata": {},
   "outputs": [
    {
     "data": {
      "text/plain": [
       "2355"
      ]
     },
     "execution_count": 9,
     "metadata": {},
     "output_type": "execute_result"
    }
   ],
   "source": [
    "car.size"
   ]
  },
  {
   "cell_type": "code",
   "execution_count": 10,
   "id": "5dae96bc",
   "metadata": {},
   "outputs": [],
   "source": [
    "car.fillna(car['x_4_year'].mean(),inplace=True)\n",
    "car.fillna(car['Price in thousands'].mean(),inplace=True)\n",
    "car.fillna(car['Engine size'].mode(),inplace=True)\n",
    "car.fillna(car['Horsepower'].median(),inplace=True)\n",
    "car.fillna(car['Wheelbase'].mode(),inplace=True)\n",
    "car.fillna(car['Width'].mode(),inplace=True)\n",
    "car.fillna(car['Length'].mode(),inplace=True)\n",
    "car.fillna(car['Curb weight'].mode(),inplace=True)\n",
    "car.fillna(car['Fuel capacity'].mode(),inplace=True)\n",
    "car.fillna(car['Fuel efficiency'].median(),inplace=True)"
   ]
  },
  {
   "cell_type": "code",
   "execution_count": 11,
   "id": "9b2ce28d",
   "metadata": {},
   "outputs": [
    {
     "name": "stdout",
     "output_type": "stream",
     "text": [
      "<class 'pandas.core.frame.DataFrame'>\n",
      "RangeIndex: 157 entries, 0 to 156\n",
      "Data columns (total 15 columns):\n",
      " #   Column              Non-Null Count  Dtype  \n",
      "---  ------              --------------  -----  \n",
      " 0   Manufacturer        157 non-null    object \n",
      " 1   Model               157 non-null    object \n",
      " 2   Sales in thousands  157 non-null    float64\n",
      " 3   x_4_year            157 non-null    float64\n",
      " 4   Vehicle type        157 non-null    object \n",
      " 5   Price in thousands  157 non-null    float64\n",
      " 6   Engine size         157 non-null    float64\n",
      " 7   Horsepower          157 non-null    float64\n",
      " 8   Wheelbase           157 non-null    float64\n",
      " 9   Width               157 non-null    float64\n",
      " 10  Length              157 non-null    float64\n",
      " 11  Curb weight         157 non-null    float64\n",
      " 12  Fuel capacity       157 non-null    float64\n",
      " 13  Fuel efficiency     157 non-null    float64\n",
      " 14  Latest Launch       157 non-null    object \n",
      "dtypes: float64(11), object(4)\n",
      "memory usage: 18.5+ KB\n"
     ]
    }
   ],
   "source": [
    "car.info()"
   ]
  },
  {
   "cell_type": "code",
   "execution_count": 12,
   "id": "fa2c15ae",
   "metadata": {},
   "outputs": [
    {
     "data": {
      "text/plain": [
       "0       2-Feb-14\n",
       "1       6-Mar-15\n",
       "2       1-Apr-14\n",
       "3       3-Oct-15\n",
       "4      10-Aug-15\n",
       "         ...    \n",
       "152    21-Sep-15\n",
       "153    24-Nov-14\n",
       "154    25-Jun-15\n",
       "155    26-Apr-15\n",
       "156    14-Nov-15\n",
       "Name: Latest Launch, Length: 157, dtype: object"
      ]
     },
     "execution_count": 12,
     "metadata": {},
     "output_type": "execute_result"
    }
   ],
   "source": [
    "car['Latest Launch']"
   ]
  },
  {
   "cell_type": "code",
   "execution_count": 13,
   "id": "43cca0e8",
   "metadata": {},
   "outputs": [],
   "source": [
    "car['Latest Launch']=pd.to_datetime(car['Latest Launch'])"
   ]
  },
  {
   "cell_type": "code",
   "execution_count": 14,
   "id": "24676ad9",
   "metadata": {},
   "outputs": [
    {
     "data": {
      "text/plain": [
       "0     2014-02-02\n",
       "1     2015-03-06\n",
       "2     2014-04-01\n",
       "3     2015-10-03\n",
       "4     2015-08-10\n",
       "         ...    \n",
       "152   2015-09-21\n",
       "153   2014-11-24\n",
       "154   2015-06-25\n",
       "155   2015-04-26\n",
       "156   2015-11-14\n",
       "Name: Latest Launch, Length: 157, dtype: datetime64[ns]"
      ]
     },
     "execution_count": 14,
     "metadata": {},
     "output_type": "execute_result"
    }
   ],
   "source": [
    "car['Latest Launch']"
   ]
  },
  {
   "cell_type": "code",
   "execution_count": 15,
   "id": "2b6df63d",
   "metadata": {},
   "outputs": [
    {
     "name": "stdout",
     "output_type": "stream",
     "text": [
      "<class 'pandas.core.frame.DataFrame'>\n",
      "RangeIndex: 157 entries, 0 to 156\n",
      "Data columns (total 15 columns):\n",
      " #   Column              Non-Null Count  Dtype         \n",
      "---  ------              --------------  -----         \n",
      " 0   Manufacturer        157 non-null    object        \n",
      " 1   Model               157 non-null    object        \n",
      " 2   Sales in thousands  157 non-null    float64       \n",
      " 3   x_4_year            157 non-null    float64       \n",
      " 4   Vehicle type        157 non-null    object        \n",
      " 5   Price in thousands  157 non-null    float64       \n",
      " 6   Engine size         157 non-null    float64       \n",
      " 7   Horsepower          157 non-null    float64       \n",
      " 8   Wheelbase           157 non-null    float64       \n",
      " 9   Width               157 non-null    float64       \n",
      " 10  Length              157 non-null    float64       \n",
      " 11  Curb weight         157 non-null    float64       \n",
      " 12  Fuel capacity       157 non-null    float64       \n",
      " 13  Fuel efficiency     157 non-null    float64       \n",
      " 14  Latest Launch       157 non-null    datetime64[ns]\n",
      "dtypes: datetime64[ns](1), float64(11), object(3)\n",
      "memory usage: 18.5+ KB\n"
     ]
    }
   ],
   "source": [
    "car.info()"
   ]
  },
  {
   "cell_type": "code",
   "execution_count": 16,
   "id": "ce34f17d",
   "metadata": {},
   "outputs": [
    {
     "data": {
      "text/html": [
       "<style  type=\"text/css\" >\n",
       "</style><table id=\"T_93c72_\" ><thead>    <tr>        <th class=\"col_heading level0 col0\" >Manufacturer</th>        <th class=\"col_heading level0 col1\" >Model</th>    </tr></thead><tbody>\n",
       "                <tr>\n",
       "                                <td id=\"T_93c72_row0_col0\" class=\"data row0 col0\" >Mitsubishi   </td>\n",
       "                        <td id=\"T_93c72_row0_col1\" class=\"data row0 col1\" >3000GT           </td>\n",
       "            </tr>\n",
       "    </tbody></table>"
      ],
      "text/plain": [
       "<pandas.io.formats.style.Styler at 0x2626679d640>"
      ]
     },
     "execution_count": 16,
     "metadata": {},
     "output_type": "execute_result"
    }
   ],
   "source": [
    "#1\n",
    "car[car['Sales in thousands']==car['Sales in thousands'].min()][['Manufacturer','Model']].style.hide_index()"
   ]
  },
  {
   "cell_type": "code",
   "execution_count": 17,
   "id": "3d79d5ce",
   "metadata": {},
   "outputs": [
    {
     "data": {
      "text/html": [
       "<style  type=\"text/css\" >\n",
       "</style><table id=\"T_3ecd5_\" ><thead>    <tr>        <th class=\"col_heading level0 col0\" >Manufacturer</th>        <th class=\"col_heading level0 col1\" >Model</th>    </tr></thead><tbody>\n",
       "                <tr>\n",
       "                                <td id=\"T_3ecd5_row0_col0\" class=\"data row0 col0\" >Ford         </td>\n",
       "                        <td id=\"T_3ecd5_row0_col1\" class=\"data row0 col1\" >F-Series         </td>\n",
       "            </tr>\n",
       "    </tbody></table>"
      ],
      "text/plain": [
       "<pandas.io.formats.style.Styler at 0x2626794fee0>"
      ]
     },
     "execution_count": 17,
     "metadata": {},
     "output_type": "execute_result"
    }
   ],
   "source": [
    "#2 \n",
    "car[car['Sales in thousands']==car['Sales in thousands'].max()][['Manufacturer','Model']].style.hide_index()"
   ]
  },
  {
   "cell_type": "code",
   "execution_count": 18,
   "id": "f5af22c1",
   "metadata": {},
   "outputs": [
    {
     "data": {
      "text/html": [
       "<style  type=\"text/css\" >\n",
       "</style><table id=\"T_14bca_\" ><thead>    <tr>        <th class=\"col_heading level0 col0\" >Manufacturer</th>        <th class=\"col_heading level0 col1\" >Model</th>    </tr></thead><tbody>\n",
       "                <tr>\n",
       "                                <td id=\"T_14bca_row0_col0\" class=\"data row0 col0\" >Mitsubishi   </td>\n",
       "                        <td id=\"T_14bca_row0_col1\" class=\"data row0 col1\" >3000GT           </td>\n",
       "            </tr>\n",
       "    </tbody></table>"
      ],
      "text/plain": [
       "<pandas.io.formats.style.Styler at 0x26267937310>"
      ]
     },
     "execution_count": 18,
     "metadata": {},
     "output_type": "execute_result"
    }
   ],
   "source": [
    "#3\n",
    "car[car['Vehicle type']=='Passenger'].nsmallest(1,'Sales in thousands')[['Manufacturer','Model']].style.hide_index()"
   ]
  },
  {
   "cell_type": "code",
   "execution_count": 19,
   "id": "b1143c3e",
   "metadata": {},
   "outputs": [
    {
     "data": {
      "text/html": [
       "<style  type=\"text/css\" >\n",
       "</style><table id=\"T_74133_\" ><thead>    <tr>        <th class=\"col_heading level0 col0\" >Manufacturer</th>        <th class=\"col_heading level0 col1\" >Model</th>    </tr></thead><tbody>\n",
       "                <tr>\n",
       "                                <td id=\"T_74133_row0_col0\" class=\"data row0 col0\" >Chrysler     </td>\n",
       "                        <td id=\"T_74133_row0_col1\" class=\"data row0 col1\" >Town & Country   </td>\n",
       "            </tr>\n",
       "    </tbody></table>"
      ],
      "text/plain": [
       "<pandas.io.formats.style.Styler at 0x262679371f0>"
      ]
     },
     "execution_count": 19,
     "metadata": {},
     "output_type": "execute_result"
    }
   ],
   "source": [
    "#4\n",
    "car[car['Engine size']>6].nlargest(1,'Sales in thousands')[['Manufacturer','Model']].style.hide_index()"
   ]
  },
  {
   "cell_type": "code",
   "execution_count": 20,
   "id": "28c86417",
   "metadata": {},
   "outputs": [
    {
     "data": {
      "text/plain": [
       "'Toyota       '"
      ]
     },
     "execution_count": 20,
     "metadata": {},
     "output_type": "execute_result"
    }
   ],
   "source": [
    "#5\n",
    "car[car['Vehicle type']=='Car'].nlargest(1,'Fuel efficiency').reset_index().iloc[0,1]"
   ]
  },
  {
   "cell_type": "code",
   "execution_count": 21,
   "id": "52ab9a42",
   "metadata": {},
   "outputs": [
    {
     "data": {
      "text/plain": [
       "'Dodge        '"
      ]
     },
     "execution_count": 21,
     "metadata": {},
     "output_type": "execute_result"
    }
   ],
   "source": [
    "#6\n",
    "car[car['Vehicle type']=='Passenger'].nsmallest(1,'Fuel efficiency').reset_index().iloc[0,1]"
   ]
  },
  {
   "cell_type": "code",
   "execution_count": 22,
   "id": "af081f96",
   "metadata": {},
   "outputs": [
    {
     "data": {
      "text/plain": [
       "'Honda        '"
      ]
     },
     "execution_count": 22,
     "metadata": {},
     "output_type": "execute_result"
    }
   ],
   "source": [
    "#7\n",
    "car.sort_values('Sales in thousands',ascending=False).head(5).nsmallest(1,'Price in thousands').reset_index().iloc[0,1]"
   ]
  },
  {
   "cell_type": "code",
   "execution_count": 23,
   "id": "9b9b6e2d",
   "metadata": {},
   "outputs": [
    {
     "data": {
      "text/plain": [
       "'Mercedes-Benz'"
      ]
     },
     "execution_count": 23,
     "metadata": {},
     "output_type": "execute_result"
    }
   ],
   "source": [
    "#8\n",
    "car.sort_values('Sales in thousands',ascending=True).head(5).nlargest(1,'Price in thousands').reset_index().iloc[0,1]"
   ]
  },
  {
   "cell_type": "code",
   "execution_count": 24,
   "id": "d6839f16",
   "metadata": {},
   "outputs": [
    {
     "data": {
      "text/plain": [
       "'Viper            '"
      ]
     },
     "execution_count": 24,
     "metadata": {},
     "output_type": "execute_result"
    }
   ],
   "source": [
    "#9\n",
    "car.nlargest(1,'Horsepower')[['Model']].reset_index().iloc[0,1]"
   ]
  },
  {
   "cell_type": "code",
   "execution_count": 25,
   "id": "2064bd62",
   "metadata": {},
   "outputs": [
    {
     "data": {
      "text/html": [
       "<style  type=\"text/css\" >\n",
       "</style><table id=\"T_d9b20_\" ><thead>    <tr>        <th class=\"col_heading level0 col0\" >Model</th>        <th class=\"col_heading level0 col1\" >Manufacturer</th>    </tr></thead><tbody>\n",
       "                <tr>\n",
       "                                <td id=\"T_d9b20_row0_col0\" class=\"data row0 col0\" >Cutlass          </td>\n",
       "                        <td id=\"T_d9b20_row0_col1\" class=\"data row0 col1\" >Oldsmobile   </td>\n",
       "            </tr>\n",
       "    </tbody></table>"
      ],
      "text/plain": [
       "<pandas.io.formats.style.Styler at 0x262646143a0>"
      ]
     },
     "execution_count": 25,
     "metadata": {},
     "output_type": "execute_result"
    }
   ],
   "source": [
    "#10\n",
    "car.sort_values('Sales in thousands',ascending=True).head().nlargest(1,'Fuel efficiency')[['Model','Manufacturer']].style.hide_index()"
   ]
  },
  {
   "cell_type": "code",
   "execution_count": 26,
   "id": "853814eb",
   "metadata": {},
   "outputs": [
    {
     "data": {
      "text/html": [
       "<style  type=\"text/css\" >\n",
       "</style><table id=\"T_db884_\" ><thead>    <tr>        <th class=\"col_heading level0 col0\" >Manufacturer</th>        <th class=\"col_heading level0 col1\" >Model</th>    </tr></thead><tbody>\n",
       "                <tr>\n",
       "                                <td id=\"T_db884_row0_col0\" class=\"data row0 col0\" >Ford         </td>\n",
       "                        <td id=\"T_db884_row0_col1\" class=\"data row0 col1\" >F-Series         </td>\n",
       "            </tr>\n",
       "    </tbody></table>"
      ],
      "text/plain": [
       "<pandas.io.formats.style.Styler at 0x26267937b20>"
      ]
     },
     "execution_count": 26,
     "metadata": {},
     "output_type": "execute_result"
    }
   ],
   "source": [
    "#11\n",
    "car.sort_values('Sales in thousands',ascending=False).head().nsmallest(1,'Fuel efficiency')[['Manufacturer','Model']].style.hide_index()"
   ]
  },
  {
   "cell_type": "code",
   "execution_count": 27,
   "id": "98bdd14b",
   "metadata": {},
   "outputs": [
    {
     "data": {
      "text/html": [
       "<style  type=\"text/css\" >\n",
       "</style><table id=\"T_06095_\" ><thead>    <tr>        <th class=\"col_heading level0 col0\" >Manufacturer</th>        <th class=\"col_heading level0 col1\" >Model</th>    </tr></thead><tbody>\n",
       "                <tr>\n",
       "                                <td id=\"T_06095_row0_col0\" class=\"data row0 col0\" >Dodge        </td>\n",
       "                        <td id=\"T_06095_row0_col1\" class=\"data row0 col1\" >Ram Pickup       </td>\n",
       "            </tr>\n",
       "    </tbody></table>"
      ],
      "text/plain": [
       "<pandas.io.formats.style.Styler at 0x2626794f1f0>"
      ]
     },
     "execution_count": 27,
     "metadata": {},
     "output_type": "execute_result"
    }
   ],
   "source": [
    "#12\n",
    "car[car['Vehicle type']=='Car'].nlargest(1,'Wheelbase')[['Manufacturer','Model']].style.hide_index()"
   ]
  },
  {
   "cell_type": "code",
   "execution_count": 28,
   "id": "3fdd14ed",
   "metadata": {},
   "outputs": [
    {
     "data": {
      "text/html": [
       "<style  type=\"text/css\" >\n",
       "</style><table id=\"T_71d8f_\" ><thead>    <tr>        <th class=\"col_heading level0 col0\" >Manufacturer</th>        <th class=\"col_heading level0 col1\" >Model</th>    </tr></thead><tbody>\n",
       "                <tr>\n",
       "                                <td id=\"T_71d8f_row0_col0\" class=\"data row0 col0\" >Porsche      </td>\n",
       "                        <td id=\"T_71d8f_row0_col1\" class=\"data row0 col1\" >Carrera Coupe    </td>\n",
       "            </tr>\n",
       "    </tbody></table>"
      ],
      "text/plain": [
       "<pandas.io.formats.style.Styler at 0x262667a2be0>"
      ]
     },
     "execution_count": 28,
     "metadata": {},
     "output_type": "execute_result"
    }
   ],
   "source": [
    "#13\n",
    "car[car['Vehicle type']=='Passenger'].nsmallest(1,'Wheelbase')[['Manufacturer','Model']].style.hide_index()"
   ]
  },
  {
   "cell_type": "code",
   "execution_count": 29,
   "id": "86e6e881",
   "metadata": {},
   "outputs": [
    {
     "data": {
      "text/html": [
       "<style  type=\"text/css\" >\n",
       "</style><table id=\"T_a0220_\" ><thead>    <tr>        <th class=\"col_heading level0 col0\" >Manufacturer</th>        <th class=\"col_heading level0 col1\" >Model</th>    </tr></thead><tbody>\n",
       "                <tr>\n",
       "                                <td id=\"T_a0220_row0_col0\" class=\"data row0 col0\" >Toyota       </td>\n",
       "                        <td id=\"T_a0220_row0_col1\" class=\"data row0 col1\" >Corolla          </td>\n",
       "            </tr>\n",
       "    </tbody></table>"
      ],
      "text/plain": [
       "<pandas.io.formats.style.Styler at 0x262666f86a0>"
      ]
     },
     "execution_count": 29,
     "metadata": {},
     "output_type": "execute_result"
    }
   ],
   "source": [
    "#14\n",
    "car.nlargest(5,'Fuel efficiency').nlargest(1,'Curb weight')[['Manufacturer','Model']].style.hide_index()"
   ]
  },
  {
   "cell_type": "code",
   "execution_count": 30,
   "id": "9fb121a6",
   "metadata": {},
   "outputs": [
    {
     "data": {
      "text/html": [
       "<style  type=\"text/css\" >\n",
       "</style><table id=\"T_548f8_\" ><thead>    <tr>        <th class=\"col_heading level0 col0\" >Manufacturer</th>        <th class=\"col_heading level0 col1\" >Model</th>    </tr></thead><tbody>\n",
       "                <tr>\n",
       "                                <td id=\"T_548f8_row0_col0\" class=\"data row0 col0\" >Chevrolet    </td>\n",
       "                        <td id=\"T_548f8_row0_col1\" class=\"data row0 col1\" >Metro            </td>\n",
       "            </tr>\n",
       "    </tbody></table>"
      ],
      "text/plain": [
       "<pandas.io.formats.style.Styler at 0x2626794f370>"
      ]
     },
     "execution_count": 30,
     "metadata": {},
     "output_type": "execute_result"
    }
   ],
   "source": [
    "#15\n",
    "car.nlargest(5,'Fuel efficiency').nsmallest(1,'Curb weight')[['Manufacturer','Model']].style.hide_index()"
   ]
  },
  {
   "cell_type": "code",
   "execution_count": 31,
   "id": "a008fdda",
   "metadata": {},
   "outputs": [
    {
     "data": {
      "text/html": [
       "<style  type=\"text/css\" >\n",
       "</style><table id=\"T_a9f1e_\" ><thead>    <tr>        <th class=\"col_heading level0 col0\" >Manufacturer</th>        <th class=\"col_heading level0 col1\" >Model</th>    </tr></thead><tbody>\n",
       "                <tr>\n",
       "                                <td id=\"T_a9f1e_row0_col0\" class=\"data row0 col0\" >Dodge        </td>\n",
       "                        <td id=\"T_a9f1e_row0_col1\" class=\"data row0 col1\" >Ram Wagon        </td>\n",
       "            </tr>\n",
       "    </tbody></table>"
      ],
      "text/plain": [
       "<pandas.io.formats.style.Styler at 0x2626790ed00>"
      ]
     },
     "execution_count": 31,
     "metadata": {},
     "output_type": "execute_result"
    }
   ],
   "source": [
    "#16\n",
    "car.nsmallest(5,'Fuel efficiency').nsmallest(1,'Curb weight')[['Manufacturer','Model']].style.hide_index()"
   ]
  },
  {
   "cell_type": "code",
   "execution_count": 32,
   "id": "41bd1ac8",
   "metadata": {},
   "outputs": [],
   "source": [
    "#17\n",
    "car.rename({'x_4_year':'4_Year_Resale_Value'},axis=1,inplace=True)"
   ]
  },
  {
   "cell_type": "code",
   "execution_count": 33,
   "id": "3273f76e",
   "metadata": {},
   "outputs": [
    {
     "data": {
      "text/html": [
       "<style  type=\"text/css\" >\n",
       "</style><table id=\"T_070a5_\" ><thead>    <tr>        <th class=\"col_heading level0 col0\" >Manufacturer</th>        <th class=\"col_heading level0 col1\" >Model</th>    </tr></thead><tbody>\n",
       "                <tr>\n",
       "                                <td id=\"T_070a5_row0_col0\" class=\"data row0 col0\" >Ford         </td>\n",
       "                        <td id=\"T_070a5_row0_col1\" class=\"data row0 col1\" >F-Series         </td>\n",
       "            </tr>\n",
       "    </tbody></table>"
      ],
      "text/plain": [
       "<pandas.io.formats.style.Styler at 0x2626790e190>"
      ]
     },
     "execution_count": 33,
     "metadata": {},
     "output_type": "execute_result"
    }
   ],
   "source": [
    "#18\n",
    "car.nlargest(1,['Sales in thousands','4_Year_Resale_Value'])[['Manufacturer','Model']].style.hide_index()"
   ]
  },
  {
   "cell_type": "code",
   "execution_count": 34,
   "id": "972abe5a",
   "metadata": {},
   "outputs": [
    {
     "data": {
      "text/html": [
       "<style  type=\"text/css\" >\n",
       "</style><table id=\"T_df499_\" ><thead>    <tr>        <th class=\"col_heading level0 col0\" >Manufacturer</th>        <th class=\"col_heading level0 col1\" >Model</th>    </tr></thead><tbody>\n",
       "                <tr>\n",
       "                                <td id=\"T_df499_row0_col0\" class=\"data row0 col0\" >Toyota       </td>\n",
       "                        <td id=\"T_df499_row0_col1\" class=\"data row0 col1\" >Tacoma           </td>\n",
       "            </tr>\n",
       "    </tbody></table>"
      ],
      "text/plain": [
       "<pandas.io.formats.style.Styler at 0x262679367c0>"
      ]
     },
     "execution_count": 34,
     "metadata": {},
     "output_type": "execute_result"
    }
   ],
   "source": [
    "#19\n",
    "car.nsmallest(5,'Price in thousands',keep='all').nlargest(1,['Sales in thousands','Fuel efficiency','4_Year_Resale_Value',])[['Manufacturer','Model']].style.hide_index()"
   ]
  },
  {
   "cell_type": "code",
   "execution_count": 35,
   "id": "59bc5cfa",
   "metadata": {},
   "outputs": [
    {
     "data": {
      "text/html": [
       "<style  type=\"text/css\" >\n",
       "</style><table id=\"T_400ac_\" ><thead>    <tr>        <th class=\"col_heading level0 col0\" >Manufacturer</th>        <th class=\"col_heading level0 col1\" >Model</th>    </tr></thead><tbody>\n",
       "                <tr>\n",
       "                                <td id=\"T_400ac_row0_col0\" class=\"data row0 col0\" >Ford         </td>\n",
       "                        <td id=\"T_400ac_row0_col1\" class=\"data row0 col1\" >Taurus           </td>\n",
       "            </tr>\n",
       "    </tbody></table>"
      ],
      "text/plain": [
       "<pandas.io.formats.style.Styler at 0x2626783cf10>"
      ]
     },
     "execution_count": 35,
     "metadata": {},
     "output_type": "execute_result"
    }
   ],
   "source": [
    "#20\n",
    "car.nlargest(5,'Sales in thousands',keep='all').nsmallest(1,'4_Year_Resale_Value')[['Manufacturer','Model']].style.hide_index()"
   ]
  },
  {
   "cell_type": "code",
   "execution_count": 36,
   "id": "17f5182d",
   "metadata": {},
   "outputs": [],
   "source": [
    "#21\n",
    "car.loc[car['Sales in thousands']>car['Sales in thousands'].mean(),'Sales in thousands']=car['Sales in thousands'].mean()"
   ]
  },
  {
   "cell_type": "code",
   "execution_count": 37,
   "id": "83cc26cf",
   "metadata": {},
   "outputs": [],
   "source": [
    "#22\n",
    "car.loc[car['Price in thousands']>car['Price in thousands'].mean(),'Price in thouands']=car['Price in thousands'].mean()"
   ]
  },
  {
   "cell_type": "code",
   "execution_count": 38,
   "id": "1c363916",
   "metadata": {},
   "outputs": [],
   "source": [
    "#23\n",
    "car.loc[car['Horsepower']>car['Horsepower'].mean(),'Horsepower']=car['Horsepower'].mean()"
   ]
  },
  {
   "cell_type": "markdown",
   "id": "6dcd0303",
   "metadata": {},
   "source": [
    "# Done !"
   ]
  }
 ],
 "metadata": {
  "kernelspec": {
   "display_name": "Python 3",
   "language": "python",
   "name": "python3"
  },
  "language_info": {
   "codemirror_mode": {
    "name": "ipython",
    "version": 3
   },
   "file_extension": ".py",
   "mimetype": "text/x-python",
   "name": "python",
   "nbconvert_exporter": "python",
   "pygments_lexer": "ipython3",
   "version": "3.8.8"
  }
 },
 "nbformat": 4,
 "nbformat_minor": 5
}
