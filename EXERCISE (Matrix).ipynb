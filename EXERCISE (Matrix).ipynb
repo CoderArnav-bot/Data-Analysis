{
 "cells": [
  {
   "cell_type": "code",
   "execution_count": 1,
   "id": "cb6d40be",
   "metadata": {},
   "outputs": [],
   "source": [
    "import numpy as np"
   ]
  },
  {
   "cell_type": "code",
   "execution_count": 2,
   "id": "deb0e7dc",
   "metadata": {},
   "outputs": [
    {
     "name": "stdout",
     "output_type": "stream",
     "text": [
      "[ 1  2  3  4  5  6  7  8  9 10 11 12 13 14 15 16 17 18 19 20 21 22 23 24\n",
      " 25 26 27 28 29 30 31 32 33 34 35 36 37 38 39 40 41 42 43 44 45 46 47 48\n",
      " 49 50 51 52 53 54 55 56 57 58 59 60 61 62 63 64 65 66 67 68 69 70 71 72\n",
      " 73 74 75 76 77 78 79 80 81 82 83 84 85 86 87 88 89 90 91 92 93 94 95 96\n",
      " 97 98 99]\n"
     ]
    }
   ],
   "source": [
    "print(np.arange(1,100))"
   ]
  },
  {
   "cell_type": "code",
   "execution_count": 3,
   "id": "f87ab421",
   "metadata": {},
   "outputs": [
    {
     "name": "stdout",
     "output_type": "stream",
     "text": [
      "[[  1   2   3   4   5   6   7   8   9  10]\n",
      " [ 11  12  13  14  15  16  17  18  19  20]\n",
      " [ 21  22  23  24  25  26  27  28  29  30]\n",
      " [ 31  32  33  34  35  36  37  38  39  40]\n",
      " [ 41  42  43  44  45  46  47  48  49  50]\n",
      " [ 51  52  53  54  55  56  57  58  59  60]\n",
      " [ 61  62  63  64  65  66  67  68  69  70]\n",
      " [ 71  72  73  74  75  76  77  78  79  80]\n",
      " [ 81  82  83  84  85  86  87  88  89  90]\n",
      " [ 91  92  93  94  95  96  97  98  99 100]]\n"
     ]
    }
   ],
   "source": [
    "#1\n",
    "print(np.arange(1,101).reshape(10,10))"
   ]
  },
  {
   "cell_type": "code",
   "execution_count": 4,
   "id": "f5a2e1cc",
   "metadata": {},
   "outputs": [
    {
     "name": "stdout",
     "output_type": "stream",
     "text": [
      "[[47 48 49]\n",
      " [57 58 59]\n",
      " [67 68 69]]\n"
     ]
    }
   ],
   "source": [
    "#2.a\n",
    "print(np.array([[47,48,49],[57,58,59],[67,68,69]]).reshape(3,3))"
   ]
  },
  {
   "cell_type": "code",
   "execution_count": 5,
   "id": "6cf3da29",
   "metadata": {},
   "outputs": [
    {
     "name": "stdout",
     "output_type": "stream",
     "text": [
      "[[40 41 42 43]\n",
      " [50 51 52 53]\n",
      " [60 61 62 63]]\n"
     ]
    }
   ],
   "source": [
    "#2.b\n",
    "print(np.array([[40,41,42,43],[50,51,52,53],[60,61,62,63]]).reshape(3,4))"
   ]
  },
  {
   "cell_type": "code",
   "execution_count": 6,
   "id": "32833d5e",
   "metadata": {},
   "outputs": [
    {
     "name": "stdout",
     "output_type": "stream",
     "text": [
      "[[32 33 34 35 36 37 38 39]\n",
      " [42 43 44 45 46 47 48 49]\n",
      " [52 53 54 55 56 57 58 59]\n",
      " [62 63 64 65 66 67 68 69]\n",
      " [72 73 74 75 76 77 78 79]]\n"
     ]
    }
   ],
   "source": [
    "#2.c\n",
    "print(np.array([np.arange(32,40),np.arange(42,50),np.arange(52,60),np.arange(62,70),np.arange(72,80)]).reshape(5,8))"
   ]
  },
  {
   "cell_type": "code",
   "execution_count": 7,
   "id": "37a67ee4",
   "metadata": {},
   "outputs": [
    {
     "name": "stdout",
     "output_type": "stream",
     "text": [
      "[[20 21 22 23 24 25 26 27 28 29]\n",
      " [30 31 32 33 34 35 36 37 38 39]\n",
      " [40 41 42 43 44 45 46 47 48 49]\n",
      " [50 51 52 53 54 55 56 57 58 59]]\n"
     ]
    }
   ],
   "source": [
    "#2.d\n",
    "print(np.arange(20,60).reshape(4,10))"
   ]
  },
  {
   "cell_type": "markdown",
   "id": "1c2127b1",
   "metadata": {},
   "source": [
    "# Done!"
   ]
  }
 ],
 "metadata": {
  "kernelspec": {
   "display_name": "Python 3",
   "language": "python",
   "name": "python3"
  },
  "language_info": {
   "codemirror_mode": {
    "name": "ipython",
    "version": 3
   },
   "file_extension": ".py",
   "mimetype": "text/x-python",
   "name": "python",
   "nbconvert_exporter": "python",
   "pygments_lexer": "ipython3",
   "version": "3.8.8"
  }
 },
 "nbformat": 4,
 "nbformat_minor": 5
}
